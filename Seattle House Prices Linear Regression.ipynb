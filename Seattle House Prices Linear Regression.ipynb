{
 "cells": [
  {
   "cell_type": "markdown",
   "metadata": {},
   "source": [
    "# Intial Overview of the Data\n",
    "\n",
    "The data was obtained from Kaggle https://www.kaggle.com/harlfoxem/housesalesprediction\n",
    "\n",
    "## 1. Looking at the Numbers"
   ]
  },
  {
   "cell_type": "code",
   "execution_count": 315,
   "metadata": {},
   "outputs": [
    {
     "data": {
      "text/html": [
       "<div>\n",
       "<style scoped>\n",
       "    .dataframe tbody tr th:only-of-type {\n",
       "        vertical-align: middle;\n",
       "    }\n",
       "\n",
       "    .dataframe tbody tr th {\n",
       "        vertical-align: top;\n",
       "    }\n",
       "\n",
       "    .dataframe thead th {\n",
       "        text-align: right;\n",
       "    }\n",
       "</style>\n",
       "<table border=\"1\" class=\"dataframe\">\n",
       "  <thead>\n",
       "    <tr style=\"text-align: right;\">\n",
       "      <th></th>\n",
       "      <th>id</th>\n",
       "      <th>date</th>\n",
       "      <th>price</th>\n",
       "      <th>bedrooms</th>\n",
       "      <th>bathrooms</th>\n",
       "      <th>sqft_living</th>\n",
       "      <th>sqft_lot</th>\n",
       "      <th>floors</th>\n",
       "      <th>waterfront</th>\n",
       "      <th>view</th>\n",
       "      <th>...</th>\n",
       "      <th>grade</th>\n",
       "      <th>sqft_above</th>\n",
       "      <th>sqft_basement</th>\n",
       "      <th>yr_built</th>\n",
       "      <th>yr_renovated</th>\n",
       "      <th>zipcode</th>\n",
       "      <th>lat</th>\n",
       "      <th>long</th>\n",
       "      <th>sqft_living15</th>\n",
       "      <th>sqft_lot15</th>\n",
       "    </tr>\n",
       "  </thead>\n",
       "  <tbody>\n",
       "    <tr>\n",
       "      <th>5991</th>\n",
       "      <td>9523103000</td>\n",
       "      <td>20141020T000000</td>\n",
       "      <td>780000.0</td>\n",
       "      <td>3</td>\n",
       "      <td>1.75</td>\n",
       "      <td>2430</td>\n",
       "      <td>4524</td>\n",
       "      <td>1.5</td>\n",
       "      <td>0</td>\n",
       "      <td>0</td>\n",
       "      <td>...</td>\n",
       "      <td>7</td>\n",
       "      <td>1830</td>\n",
       "      <td>600</td>\n",
       "      <td>1924</td>\n",
       "      <td>0</td>\n",
       "      <td>98103</td>\n",
       "      <td>47.6740</td>\n",
       "      <td>-122.350</td>\n",
       "      <td>1610</td>\n",
       "      <td>4100</td>\n",
       "    </tr>\n",
       "    <tr>\n",
       "      <th>17052</th>\n",
       "      <td>203900380</td>\n",
       "      <td>20140821T000000</td>\n",
       "      <td>326188.0</td>\n",
       "      <td>3</td>\n",
       "      <td>1.00</td>\n",
       "      <td>1300</td>\n",
       "      <td>8800</td>\n",
       "      <td>1.0</td>\n",
       "      <td>0</td>\n",
       "      <td>0</td>\n",
       "      <td>...</td>\n",
       "      <td>7</td>\n",
       "      <td>1300</td>\n",
       "      <td>0</td>\n",
       "      <td>1977</td>\n",
       "      <td>0</td>\n",
       "      <td>98053</td>\n",
       "      <td>47.6400</td>\n",
       "      <td>-121.966</td>\n",
       "      <td>1600</td>\n",
       "      <td>12210</td>\n",
       "    </tr>\n",
       "    <tr>\n",
       "      <th>15250</th>\n",
       "      <td>2207200635</td>\n",
       "      <td>20140602T000000</td>\n",
       "      <td>439800.0</td>\n",
       "      <td>3</td>\n",
       "      <td>1.50</td>\n",
       "      <td>1120</td>\n",
       "      <td>6900</td>\n",
       "      <td>1.0</td>\n",
       "      <td>0</td>\n",
       "      <td>0</td>\n",
       "      <td>...</td>\n",
       "      <td>7</td>\n",
       "      <td>1120</td>\n",
       "      <td>0</td>\n",
       "      <td>1956</td>\n",
       "      <td>0</td>\n",
       "      <td>98007</td>\n",
       "      <td>47.6023</td>\n",
       "      <td>-122.132</td>\n",
       "      <td>1300</td>\n",
       "      <td>7000</td>\n",
       "    </tr>\n",
       "    <tr>\n",
       "      <th>21419</th>\n",
       "      <td>2254501095</td>\n",
       "      <td>20141113T000000</td>\n",
       "      <td>729999.0</td>\n",
       "      <td>2</td>\n",
       "      <td>2.25</td>\n",
       "      <td>1630</td>\n",
       "      <td>1686</td>\n",
       "      <td>2.0</td>\n",
       "      <td>0</td>\n",
       "      <td>0</td>\n",
       "      <td>...</td>\n",
       "      <td>10</td>\n",
       "      <td>1330</td>\n",
       "      <td>300</td>\n",
       "      <td>2014</td>\n",
       "      <td>0</td>\n",
       "      <td>98122</td>\n",
       "      <td>47.6113</td>\n",
       "      <td>-122.314</td>\n",
       "      <td>1570</td>\n",
       "      <td>2580</td>\n",
       "    </tr>\n",
       "    <tr>\n",
       "      <th>6347</th>\n",
       "      <td>5608000840</td>\n",
       "      <td>20140724T000000</td>\n",
       "      <td>905000.0</td>\n",
       "      <td>4</td>\n",
       "      <td>2.50</td>\n",
       "      <td>3520</td>\n",
       "      <td>12193</td>\n",
       "      <td>2.0</td>\n",
       "      <td>0</td>\n",
       "      <td>0</td>\n",
       "      <td>...</td>\n",
       "      <td>10</td>\n",
       "      <td>3520</td>\n",
       "      <td>0</td>\n",
       "      <td>1993</td>\n",
       "      <td>0</td>\n",
       "      <td>98027</td>\n",
       "      <td>47.5535</td>\n",
       "      <td>-122.095</td>\n",
       "      <td>3470</td>\n",
       "      <td>11318</td>\n",
       "    </tr>\n",
       "  </tbody>\n",
       "</table>\n",
       "<p>5 rows × 21 columns</p>\n",
       "</div>"
      ],
      "text/plain": [
       "               id             date     price  bedrooms  bathrooms  \\\n",
       "5991   9523103000  20141020T000000  780000.0         3       1.75   \n",
       "17052   203900380  20140821T000000  326188.0         3       1.00   \n",
       "15250  2207200635  20140602T000000  439800.0         3       1.50   \n",
       "21419  2254501095  20141113T000000  729999.0         2       2.25   \n",
       "6347   5608000840  20140724T000000  905000.0         4       2.50   \n",
       "\n",
       "       sqft_living  sqft_lot  floors  waterfront  view     ...      grade  \\\n",
       "5991          2430      4524     1.5           0     0     ...          7   \n",
       "17052         1300      8800     1.0           0     0     ...          7   \n",
       "15250         1120      6900     1.0           0     0     ...          7   \n",
       "21419         1630      1686     2.0           0     0     ...         10   \n",
       "6347          3520     12193     2.0           0     0     ...         10   \n",
       "\n",
       "       sqft_above  sqft_basement  yr_built  yr_renovated  zipcode      lat  \\\n",
       "5991         1830            600      1924             0    98103  47.6740   \n",
       "17052        1300              0      1977             0    98053  47.6400   \n",
       "15250        1120              0      1956             0    98007  47.6023   \n",
       "21419        1330            300      2014             0    98122  47.6113   \n",
       "6347         3520              0      1993             0    98027  47.5535   \n",
       "\n",
       "          long  sqft_living15  sqft_lot15  \n",
       "5991  -122.350           1610        4100  \n",
       "17052 -121.966           1600       12210  \n",
       "15250 -122.132           1300        7000  \n",
       "21419 -122.314           1570        2580  \n",
       "6347  -122.095           3470       11318  \n",
       "\n",
       "[5 rows x 21 columns]"
      ]
     },
     "execution_count": 315,
     "metadata": {},
     "output_type": "execute_result"
    }
   ],
   "source": [
    "import pandas as pd\n",
    "import numpy as np\n",
    "\n",
    "houseData = pd.read_csv(\"kc_house_data.csv\")\n",
    "houseData.sample(5)"
   ]
  },
  {
   "cell_type": "code",
   "execution_count": 316,
   "metadata": {},
   "outputs": [
    {
     "name": "stdout",
     "output_type": "stream",
     "text": [
      "<class 'pandas.core.frame.DataFrame'>\n",
      "RangeIndex: 21613 entries, 0 to 21612\n",
      "Data columns (total 21 columns):\n",
      "id               21613 non-null int64\n",
      "date             21613 non-null object\n",
      "price            21613 non-null float64\n",
      "bedrooms         21613 non-null int64\n",
      "bathrooms        21613 non-null float64\n",
      "sqft_living      21613 non-null int64\n",
      "sqft_lot         21613 non-null int64\n",
      "floors           21613 non-null float64\n",
      "waterfront       21613 non-null int64\n",
      "view             21613 non-null int64\n",
      "condition        21613 non-null int64\n",
      "grade            21613 non-null int64\n",
      "sqft_above       21613 non-null int64\n",
      "sqft_basement    21613 non-null int64\n",
      "yr_built         21613 non-null int64\n",
      "yr_renovated     21613 non-null int64\n",
      "zipcode          21613 non-null int64\n",
      "lat              21613 non-null float64\n",
      "long             21613 non-null float64\n",
      "sqft_living15    21613 non-null int64\n",
      "sqft_lot15       21613 non-null int64\n",
      "dtypes: float64(5), int64(15), object(1)\n",
      "memory usage: 3.5+ MB\n"
     ]
    }
   ],
   "source": [
    "houseData.info()"
   ]
  },
  {
   "cell_type": "markdown",
   "metadata": {},
   "source": [
    "There are no empty values in this dataset, which is pretty good since we don't have to fill in the NA values. <br>\n",
    "However, this is a lot of features, and a lot of features can lead to lower accuracy since we don't have that many data. <br>\n",
    "So, we will have to delete some of the features.\n"
   ]
  },
  {
   "cell_type": "markdown",
   "metadata": {},
   "source": [
    "## 1.1 Finding Paraameters to remove"
   ]
  },
  {
   "cell_type": "code",
   "execution_count": 317,
   "metadata": {},
   "outputs": [
    {
     "data": {
      "text/plain": [
       "<matplotlib.axes._subplots.AxesSubplot at 0x27d22c45940>"
      ]
     },
     "execution_count": 317,
     "metadata": {},
     "output_type": "execute_result"
    },
    {
     "data": {
      "image/png": "[encoded data removed]",
      "text/plain": [
       "<Figure size 432x288 with 1 Axes>"
      ]
     },
     "metadata": {
      "needs_background": "light"
     },
     "output_type": "display_data"
    }
   ],
   "source": [
    "houseData[\"waterfront\"].hist()"
   ]
  },
  {
   "cell_type": "markdown",
   "metadata": {},
   "source": [
    "Since many houses don't have waterfront. I think it is safe to delete it."
   ]
  },
  {
   "cell_type": "code",
   "execution_count": 318,
   "metadata": {},
   "outputs": [
    {
     "data": {
      "text/plain": [
       "<matplotlib.axes._subplots.AxesSubplot at 0x27d1f161898>"
      ]
     },
     "execution_count": 318,
     "metadata": {},
     "output_type": "execute_result"
    },
    {
     "data": {
      "image/png": "[encoded data removed]",
      "text/plain": [
       "<Figure size 432x288 with 1 Axes>"
      ]
     },
     "metadata": {
      "needs_background": "light"
     },
     "output_type": "display_data"
    }
   ],
   "source": [
    "houseData[\"view\"].hist()"
   ]
  },
  {
   "cell_type": "markdown",
   "metadata": {},
   "source": [
    "Since the majority of the houses' view is zero. I think view should be deleted as well"
   ]
  },
  {
   "cell_type": "code",
   "execution_count": 319,
   "metadata": {},
   "outputs": [
    {
     "data": {
      "text/plain": [
       "<matplotlib.axes._subplots.AxesSubplot at 0x27d221b0400>"
      ]
     },
     "execution_count": 319,
     "metadata": {},
     "output_type": "execute_result"
    },
    {
     "data": {
      "image/png": "[encoded data removed]",
      "text/plain": [
       "<Figure size 432x288 with 1 Axes>"
      ]
     },
     "metadata": {
      "needs_background": "light"
     },
     "output_type": "display_data"
    }
   ],
   "source": [
    "houseData[\"floors\"].hist()"
   ]
  },
  {
   "cell_type": "markdown",
   "metadata": {},
   "source": [
    "There're houses who has 2.5 floors? Let's see it in more detail."
   ]
  },
  {
   "cell_type": "code",
   "execution_count": 320,
   "metadata": {},
   "outputs": [
    {
     "data": {
      "text/html": [
       "<div>\n",
       "<style scoped>\n",
       "    .dataframe tbody tr th:only-of-type {\n",
       "        vertical-align: middle;\n",
       "    }\n",
       "\n",
       "    .dataframe tbody tr th {\n",
       "        vertical-align: top;\n",
       "    }\n",
       "\n",
       "    .dataframe thead th {\n",
       "        text-align: right;\n",
       "    }\n",
       "</style>\n",
       "<table border=\"1\" class=\"dataframe\">\n",
       "  <thead>\n",
       "    <tr style=\"text-align: right;\">\n",
       "      <th></th>\n",
       "      <th>price</th>\n",
       "      <th>floors</th>\n",
       "    </tr>\n",
       "  </thead>\n",
       "  <tbody>\n",
       "    <tr>\n",
       "      <th>484</th>\n",
       "      <td>1385000.0</td>\n",
       "      <td>2.5</td>\n",
       "    </tr>\n",
       "    <tr>\n",
       "      <th>518</th>\n",
       "      <td>2250000.0</td>\n",
       "      <td>2.5</td>\n",
       "    </tr>\n",
       "    <tr>\n",
       "      <th>577</th>\n",
       "      <td>930000.0</td>\n",
       "      <td>2.5</td>\n",
       "    </tr>\n",
       "    <tr>\n",
       "      <th>759</th>\n",
       "      <td>405600.0</td>\n",
       "      <td>2.5</td>\n",
       "    </tr>\n",
       "    <tr>\n",
       "      <th>815</th>\n",
       "      <td>379000.0</td>\n",
       "      <td>2.5</td>\n",
       "    </tr>\n",
       "  </tbody>\n",
       "</table>\n",
       "</div>"
      ],
      "text/plain": [
       "         price  floors\n",
       "484  1385000.0     2.5\n",
       "518  2250000.0     2.5\n",
       "577   930000.0     2.5\n",
       "759   405600.0     2.5\n",
       "815   379000.0     2.5"
      ]
     },
     "execution_count": 320,
     "metadata": {},
     "output_type": "execute_result"
    }
   ],
   "source": [
    "houseData[[\"price\", \"floors\"]][houseData.floors == 2.5].head()"
   ]
  },
  {
   "cell_type": "code",
   "execution_count": 321,
   "metadata": {},
   "outputs": [
    {
     "data": {
      "text/plain": [
       "161"
      ]
     },
     "execution_count": 321,
     "metadata": {},
     "output_type": "execute_result"
    }
   ],
   "source": [
    "houseData[\"price\"][houseData.floors == 2.5].count()"
   ]
  },
  {
   "cell_type": "markdown",
   "metadata": {},
   "source": [
    "Interesting. So I guess that there are 161 houses with 2.5 floors. <br>\n",
    "I think that number of floors is useful, so we will keep it."
   ]
  },
  {
   "cell_type": "code",
   "execution_count": 322,
   "metadata": {},
   "outputs": [
    {
     "data": {
      "text/plain": [
       "<matplotlib.axes._subplots.AxesSubplot at 0x27d22200ef0>"
      ]
     },
     "execution_count": 322,
     "metadata": {},
     "output_type": "execute_result"
    },
    {
     "data": {
      "image/png": "[encoded data removed]",
      "text/plain": [
       "<Figure size 432x288 with 1 Axes>"
      ]
     },
     "metadata": {
      "needs_background": "light"
     },
     "output_type": "display_data"
    }
   ],
   "source": [
    "houseData[\"grade\"].hist()"
   ]
  },
  {
   "cell_type": "markdown",
   "metadata": {},
   "source": [
    "So, I'm guessing that the grade is useful since there are actually numbers associated with the listings. We will keep it"
   ]
  },
  {
   "cell_type": "code",
   "execution_count": 323,
   "metadata": {},
   "outputs": [
    {
     "data": {
      "text/plain": [
       "<matplotlib.axes._subplots.AxesSubplot at 0x27d2228ee80>"
      ]
     },
     "execution_count": 323,
     "metadata": {},
     "output_type": "execute_result"
    },
    {
     "data": {
      "image/png": "[encoded data removed]",
      "text/plain": [
       "<Figure size 432x288 with 1 Axes>"
      ]
     },
     "metadata": {
      "needs_background": "light"
     },
     "output_type": "display_data"
    }
   ],
   "source": [
    "houseData[\"yr_renovated\"].hist()"
   ]
  },
  {
   "cell_type": "markdown",
   "metadata": {},
   "source": [
    "I'm definitely going to throw year renovated away."
   ]
  },
  {
   "cell_type": "code",
   "execution_count": 324,
   "metadata": {},
   "outputs": [
    {
     "data": {
      "text/plain": [
       "<matplotlib.axes._subplots.AxesSubplot at 0x27d236a5cc0>"
      ]
     },
     "execution_count": 324,
     "metadata": {},
     "output_type": "execute_result"
    },
    {
     "data": {
      "image/png": "[encoded data removed]",
      "text/plain": [
       "<Figure size 432x288 with 1 Axes>"
      ]
     },
     "metadata": {
      "needs_background": "light"
     },
     "output_type": "display_data"
    }
   ],
   "source": [
    "houseData[\"yr_built\"].hist()"
   ]
  },
  {
   "cell_type": "markdown",
   "metadata": {},
   "source": [
    "This looks pretty good!"
   ]
  },
  {
   "cell_type": "code",
   "execution_count": 325,
   "metadata": {
    "scrolled": true
   },
   "outputs": [
    {
     "data": {
      "text/plain": [
       "<matplotlib.axes._subplots.AxesSubplot at 0x27d22c087f0>"
      ]
     },
     "execution_count": 325,
     "metadata": {},
     "output_type": "execute_result"
    },
    {
     "data": {
      "image/png": "[encoded data removed]",
      "text/plain": [
       "<Figure size 432x288 with 1 Axes>"
      ]
     },
     "metadata": {
      "needs_background": "light"
     },
     "output_type": "display_data"
    }
   ],
   "source": [
    "houseData[\"condition\"].hist()"
   ]
  },
  {
   "cell_type": "markdown",
   "metadata": {},
   "source": [
    "I'm going to keep this one since it is not too skewed.\n",
    "\n",
    "So, features that I'm going to throw away is:\n",
    "1. id\n",
    "2. date\n",
    "3. view\n",
    "4. waterfront\n",
    "5. year renovated\n",
    "6. zipcode"
   ]
  },
  {
   "cell_type": "markdown",
   "metadata": {},
   "source": [
    "## 2. Visualizing Data"
   ]
  },
  {
   "cell_type": "code",
   "execution_count": 326,
   "metadata": {},
   "outputs": [
    {
     "data": {
      "image/png": "[encoded data removed]",
      "text/plain": [
       "<Figure size 432x288 with 2 Axes>"
      ]
     },
     "metadata": {
      "needs_background": "light"
     },
     "output_type": "display_data"
    }
   ],
   "source": [
    "import matplotlib.pyplot as plt\n",
    "prices = houseData[\"price\"]\n",
    "longitude = houseData[\"long\"]\n",
    "latitude = houseData[\"lat\"]\n",
    "\n",
    "plt.scatter(longitude, latitude, c=prices, cmap = \"YlOrRd\", alpha = 0.3)\n",
    "plt.colorbar()\n",
    "plt.show()"
   ]
  },
  {
   "cell_type": "markdown",
   "metadata": {},
   "source": [
    "It looks like that there are a large number of houses whose prices are beloiw 1,000,000 dollars,  which makes sense. <br>\n",
    "Not many houses are above 1,000,000 dollars. <br>\n",
    "However, we can see that there are quite a few houses at the center whose prices are above 1,000,000 dollars."
   ]
  },
  {
   "cell_type": "markdown",
   "metadata": {},
   "source": [
    "### 2.1 Breaking the Price Range To get Clearer Picture\n",
    "\n",
    "To see the clearer picture of the higher-end houses, we will be splitting the data set to visualize the data set better <br>\n",
    "We will be splitting the price ranges from 0 - 1,000,000 and 1,000,000 to max.<br>\n",
    "This way, we can see the data more clearly for both dataset. <br>"
   ]
  },
  {
   "cell_type": "markdown",
   "metadata": {},
   "source": [
    "#### Part 1. Housing Price Visualation for Houses Whose Price is Less than 1,000,000"
   ]
  },
  {
   "cell_type": "code",
   "execution_count": 327,
   "metadata": {},
   "outputs": [
    {
     "data": {
      "image/png": "[encoded data removed]",
      "text/plain": [
       "<Figure size 432x288 with 2 Axes>"
      ]
     },
     "metadata": {
      "needs_background": "light"
     },
     "output_type": "display_data"
    }
   ],
   "source": [
    "housesLower = houseData.loc[houseData[\"price\"] < 1000000]\n",
    "housesHigher = houseData.loc[houseData[\"price\"] >= 1000000]\n",
    "\n",
    "plt.scatter(housesLower[\"long\"], housesLower[\"lat\"], c= housesLower[\"price\"], cmap=\"YlOrRd\", alpha = 0.2)\n",
    "plt.colorbar()\n",
    "plt.title(\"Housing Prices Chart for Prices Lower than $1,000,000\")\n",
    "plt.ylabel (\"Latitude\")\n",
    "plt.xlabel (\"Longitude\")\n",
    "plt.show()"
   ]
  },
  {
   "cell_type": "markdown",
   "metadata": {},
   "source": [
    "This is the visualization of the housing that are below 1,000,000 dollars <br>\n",
    "As you can see, the lower end houses are below 47.5 latitude <br>\n",
    "And the prices goes up and the higher end houses forms a circle.<br>\n",
    "From this, it looks like that the housing prices tend to goes up higher as we move closer to that center <br>"
   ]
  },
  {
   "cell_type": "markdown",
   "metadata": {},
   "source": [
    "Part 2. Housing Price Visualation for Pricing that is Higher than 1,000,000 dollars."
   ]
  },
  {
   "cell_type": "code",
   "execution_count": 328,
   "metadata": {},
   "outputs": [
    {
     "data": {
      "image/png": "[encoded data removed]",
      "text/plain": [
       "<Figure size 432x288 with 2 Axes>"
      ]
     },
     "metadata": {
      "needs_background": "light"
     },
     "output_type": "display_data"
    }
   ],
   "source": [
    "plt.scatter(housesHigher[\"long\"], housesHigher[\"lat\"], c= housesHigher[\"price\"], cmap=\"YlOrRd\", alpha = 0.5)\n",
    "plt.colorbar()\n",
    "plt.title(\"Housing Prices Chart for Prices Higher than $1,000,000\")\n",
    "plt.ylabel (\"Latitude\")\n",
    "plt.xlabel (\"Longitude\")\n",
    "plt.show()"
   ]
  },
  {
   "cell_type": "markdown",
   "metadata": {},
   "source": [
    "By looking at these two graphs, we can see that the higher priced houses are centralized in one area. <br>\n",
    "So, longitude and latitude matter!<br>\n",
    "Also, we see that the relationship between longitude/latitude and price is a non-linear relationship <br>\n",
    "The reason is that the price doesn't linearly affected as longitude and latitude increases. <br>\n",
    "So, I don't think that the linear regression is going to be very effective... <br>\n",
    "The prices of a house really depends on the longitude and latitude in this dataset <br>"
   ]
  },
  {
   "cell_type": "markdown",
   "metadata": {},
   "source": [
    "### 2.2 Histograms"
   ]
  },
  {
   "cell_type": "code",
   "execution_count": 329,
   "metadata": {},
   "outputs": [
    {
     "data": {
      "text/plain": [
       "array([[<matplotlib.axes._subplots.AxesSubplot object at 0x0000027D23820D68>]],\n",
       "      dtype=object)"
      ]
     },
     "execution_count": 329,
     "metadata": {},
     "output_type": "execute_result"
    },
    {
     "data": {
      "image/png": "[encoded data removed]",
      "text/plain": [
       "<Figure size 432x288 with 1 Axes>"
      ]
     },
     "metadata": {
      "needs_background": "light"
     },
     "output_type": "display_data"
    }
   ],
   "source": [
    "houseData[[\"price\"]].hist()"
   ]
  },
  {
   "cell_type": "markdown",
   "metadata": {},
   "source": [
    "Here we can see that the prices are very heavy on the one side."
   ]
  },
  {
   "cell_type": "markdown",
   "metadata": {},
   "source": [
    "### Takeaway from Visualization\n",
    "1. We can see that many of the houses are below 1,500,000 dollars.\n",
    "2. We also can see that longitude/latitude has an nonlinear relationship with the house prices. This means that linear regression is probably not a good option, but we can always try it:)\n",
    "3. House prices get really high at one location. "
   ]
  },
  {
   "cell_type": "markdown",
   "metadata": {},
   "source": [
    "# 3. Splitting Training Set and Test Set\n",
    "We need to split off the training set and the test set. <br>\n",
    "Since the house prices are lop-sided and we don't have much entry, we should use stratified splitting."
   ]
  },
  {
   "cell_type": "code",
   "execution_count": 330,
   "metadata": {},
   "outputs": [
    {
     "data": {
      "text/plain": [
       "<matplotlib.axes._subplots.AxesSubplot at 0x27d23820d30>"
      ]
     },
     "execution_count": 330,
     "metadata": {},
     "output_type": "execute_result"
    },
    {
     "data": {
      "image/png": "[encoded data removed]",
      "text/plain": [
       "<Figure size 432x288 with 1 Axes>"
      ]
     },
     "metadata": {
      "needs_background": "light"
     },
     "output_type": "display_data"
    }
   ],
   "source": [
    "houseData[\"housePriceCategory\"] = pd.cut(houseData[\"price\"], bins = [0, 300000, 600000, 1000000, np.inf], labels = [1, 2, 3, 4])\n",
    "houseData[\"housePriceCategory\"].hist()"
   ]
  },
  {
   "cell_type": "markdown",
   "metadata": {},
   "source": [
    "I've split the houses according to price, and this looks pretty good. Now, I'll split it according to these prices."
   ]
  },
  {
   "cell_type": "code",
   "execution_count": 331,
   "metadata": {},
   "outputs": [
    {
     "data": {
      "text/html": [
       "<div>\n",
       "<style scoped>\n",
       "    .dataframe tbody tr th:only-of-type {\n",
       "        vertical-align: middle;\n",
       "    }\n",
       "\n",
       "    .dataframe tbody tr th {\n",
       "        vertical-align: top;\n",
       "    }\n",
       "\n",
       "    .dataframe thead th {\n",
       "        text-align: right;\n",
       "    }\n",
       "</style>\n",
       "<table border=\"1\" class=\"dataframe\">\n",
       "  <thead>\n",
       "    <tr style=\"text-align: right;\">\n",
       "      <th></th>\n",
       "      <th>id</th>\n",
       "      <th>date</th>\n",
       "      <th>price</th>\n",
       "      <th>bedrooms</th>\n",
       "      <th>bathrooms</th>\n",
       "      <th>sqft_living</th>\n",
       "      <th>sqft_lot</th>\n",
       "      <th>floors</th>\n",
       "      <th>waterfront</th>\n",
       "      <th>view</th>\n",
       "      <th>...</th>\n",
       "      <th>sqft_above</th>\n",
       "      <th>sqft_basement</th>\n",
       "      <th>yr_built</th>\n",
       "      <th>yr_renovated</th>\n",
       "      <th>zipcode</th>\n",
       "      <th>lat</th>\n",
       "      <th>long</th>\n",
       "      <th>sqft_living15</th>\n",
       "      <th>sqft_lot15</th>\n",
       "      <th>housePriceCategory</th>\n",
       "    </tr>\n",
       "  </thead>\n",
       "  <tbody>\n",
       "    <tr>\n",
       "      <th>9059</th>\n",
       "      <td>8731900790</td>\n",
       "      <td>20140626T000000</td>\n",
       "      <td>354950.0</td>\n",
       "      <td>4</td>\n",
       "      <td>2.75</td>\n",
       "      <td>2530</td>\n",
       "      <td>7350</td>\n",
       "      <td>1.0</td>\n",
       "      <td>0</td>\n",
       "      <td>0</td>\n",
       "      <td>...</td>\n",
       "      <td>1280</td>\n",
       "      <td>1250</td>\n",
       "      <td>1977</td>\n",
       "      <td>0</td>\n",
       "      <td>98023</td>\n",
       "      <td>47.3130</td>\n",
       "      <td>-122.374</td>\n",
       "      <td>2280</td>\n",
       "      <td>7350</td>\n",
       "      <td>2</td>\n",
       "    </tr>\n",
       "    <tr>\n",
       "      <th>13879</th>\n",
       "      <td>9238450330</td>\n",
       "      <td>20141110T000000</td>\n",
       "      <td>330000.0</td>\n",
       "      <td>3</td>\n",
       "      <td>1.00</td>\n",
       "      <td>1070</td>\n",
       "      <td>10563</td>\n",
       "      <td>1.0</td>\n",
       "      <td>0</td>\n",
       "      <td>0</td>\n",
       "      <td>...</td>\n",
       "      <td>1070</td>\n",
       "      <td>0</td>\n",
       "      <td>1969</td>\n",
       "      <td>0</td>\n",
       "      <td>98072</td>\n",
       "      <td>47.7687</td>\n",
       "      <td>-122.166</td>\n",
       "      <td>1840</td>\n",
       "      <td>9638</td>\n",
       "      <td>2</td>\n",
       "    </tr>\n",
       "    <tr>\n",
       "      <th>12286</th>\n",
       "      <td>727500030</td>\n",
       "      <td>20140715T000000</td>\n",
       "      <td>815000.0</td>\n",
       "      <td>3</td>\n",
       "      <td>1.50</td>\n",
       "      <td>1370</td>\n",
       "      <td>8671</td>\n",
       "      <td>1.0</td>\n",
       "      <td>0</td>\n",
       "      <td>0</td>\n",
       "      <td>...</td>\n",
       "      <td>1370</td>\n",
       "      <td>0</td>\n",
       "      <td>1955</td>\n",
       "      <td>0</td>\n",
       "      <td>98004</td>\n",
       "      <td>47.6217</td>\n",
       "      <td>-122.198</td>\n",
       "      <td>1580</td>\n",
       "      <td>8671</td>\n",
       "      <td>3</td>\n",
       "    </tr>\n",
       "    <tr>\n",
       "      <th>3218</th>\n",
       "      <td>3574801110</td>\n",
       "      <td>20141125T000000</td>\n",
       "      <td>405000.0</td>\n",
       "      <td>4</td>\n",
       "      <td>2.75</td>\n",
       "      <td>2360</td>\n",
       "      <td>7716</td>\n",
       "      <td>1.0</td>\n",
       "      <td>0</td>\n",
       "      <td>0</td>\n",
       "      <td>...</td>\n",
       "      <td>1390</td>\n",
       "      <td>970</td>\n",
       "      <td>1978</td>\n",
       "      <td>0</td>\n",
       "      <td>98034</td>\n",
       "      <td>47.7301</td>\n",
       "      <td>-122.223</td>\n",
       "      <td>2160</td>\n",
       "      <td>8794</td>\n",
       "      <td>2</td>\n",
       "    </tr>\n",
       "    <tr>\n",
       "      <th>5287</th>\n",
       "      <td>7754900280</td>\n",
       "      <td>20140623T000000</td>\n",
       "      <td>322200.0</td>\n",
       "      <td>4</td>\n",
       "      <td>2.25</td>\n",
       "      <td>2010</td>\n",
       "      <td>19000</td>\n",
       "      <td>2.0</td>\n",
       "      <td>0</td>\n",
       "      <td>0</td>\n",
       "      <td>...</td>\n",
       "      <td>2010</td>\n",
       "      <td>0</td>\n",
       "      <td>1975</td>\n",
       "      <td>0</td>\n",
       "      <td>98042</td>\n",
       "      <td>47.3734</td>\n",
       "      <td>-122.119</td>\n",
       "      <td>1950</td>\n",
       "      <td>19626</td>\n",
       "      <td>2</td>\n",
       "    </tr>\n",
       "  </tbody>\n",
       "</table>\n",
       "<p>5 rows × 22 columns</p>\n",
       "</div>"
      ],
      "text/plain": [
       "               id             date     price  bedrooms  bathrooms  \\\n",
       "9059   8731900790  20140626T000000  354950.0         4       2.75   \n",
       "13879  9238450330  20141110T000000  330000.0         3       1.00   \n",
       "12286   727500030  20140715T000000  815000.0         3       1.50   \n",
       "3218   3574801110  20141125T000000  405000.0         4       2.75   \n",
       "5287   7754900280  20140623T000000  322200.0         4       2.25   \n",
       "\n",
       "       sqft_living  sqft_lot  floors  waterfront  view         ...          \\\n",
       "9059          2530      7350     1.0           0     0         ...           \n",
       "13879         1070     10563     1.0           0     0         ...           \n",
       "12286         1370      8671     1.0           0     0         ...           \n",
       "3218          2360      7716     1.0           0     0         ...           \n",
       "5287          2010     19000     2.0           0     0         ...           \n",
       "\n",
       "       sqft_above  sqft_basement  yr_built  yr_renovated  zipcode      lat  \\\n",
       "9059         1280           1250      1977             0    98023  47.3130   \n",
       "13879        1070              0      1969             0    98072  47.7687   \n",
       "12286        1370              0      1955             0    98004  47.6217   \n",
       "3218         1390            970      1978             0    98034  47.7301   \n",
       "5287         2010              0      1975             0    98042  47.3734   \n",
       "\n",
       "          long  sqft_living15  sqft_lot15  housePriceCategory  \n",
       "9059  -122.374           2280        7350                   2  \n",
       "13879 -122.166           1840        9638                   2  \n",
       "12286 -122.198           1580        8671                   3  \n",
       "3218  -122.223           2160        8794                   2  \n",
       "5287  -122.119           1950       19626                   2  \n",
       "\n",
       "[5 rows x 22 columns]"
      ]
     },
     "execution_count": 331,
     "metadata": {},
     "output_type": "execute_result"
    }
   ],
   "source": [
    "from sklearn.model_selection import StratifiedShuffleSplit\n",
    "shuffleSplit = StratifiedShuffleSplit(test_size = 0.3, random_state = 42)\n",
    "for trainIndex, testIndex in shuffleSplit.split(houseData, houseData[\"housePriceCategory\"]):\n",
    "    trainSet = houseData.iloc[trainIndex]\n",
    "    testSet = houseData.iloc[testIndex]\n",
    "trainSet.head()"
   ]
  },
  {
   "cell_type": "markdown",
   "metadata": {},
   "source": [
    "# 4. Data Cleaning\n",
    "Now, we need to do some cleaning with the data. We will use both built-in transformers and custom transformers to automate the process of cleaning the data.\n"
   ]
  },
  {
   "cell_type": "markdown",
   "metadata": {},
   "source": [
    "## 4.1 Separating X values and y values"
   ]
  },
  {
   "cell_type": "code",
   "execution_count": 332,
   "metadata": {},
   "outputs": [],
   "source": [
    "trainSetCopy = trainSet.copy()\n",
    "trainPrices = trainSetCopy[\"price\"]\n",
    "trainFeatures = trainSetCopy.drop(columns = \"price\")"
   ]
  },
  {
   "cell_type": "markdown",
   "metadata": {},
   "source": [
    "## 4.2 Custom Transformer (Deleting the \"bad\" Features)\n",
    "We will be deleting these features:\n",
    "1. id\n",
    "2. date\n",
    "3. view\n",
    "4. waterfront\n",
    "5. year renovated\n",
    "6. zipcode\n",
    "7. housePriceCategory"
   ]
  },
  {
   "cell_type": "code",
   "execution_count": 333,
   "metadata": {},
   "outputs": [
    {
     "data": {
      "text/html": [
       "<div>\n",
       "<style scoped>\n",
       "    .dataframe tbody tr th:only-of-type {\n",
       "        vertical-align: middle;\n",
       "    }\n",
       "\n",
       "    .dataframe tbody tr th {\n",
       "        vertical-align: top;\n",
       "    }\n",
       "\n",
       "    .dataframe thead th {\n",
       "        text-align: right;\n",
       "    }\n",
       "</style>\n",
       "<table border=\"1\" class=\"dataframe\">\n",
       "  <thead>\n",
       "    <tr style=\"text-align: right;\">\n",
       "      <th></th>\n",
       "      <th>bedrooms</th>\n",
       "      <th>bathrooms</th>\n",
       "      <th>sqft_living</th>\n",
       "      <th>sqft_lot</th>\n",
       "      <th>floors</th>\n",
       "      <th>condition</th>\n",
       "      <th>grade</th>\n",
       "      <th>sqft_above</th>\n",
       "      <th>sqft_basement</th>\n",
       "      <th>yr_built</th>\n",
       "      <th>lat</th>\n",
       "      <th>long</th>\n",
       "      <th>sqft_living15</th>\n",
       "      <th>sqft_lot15</th>\n",
       "    </tr>\n",
       "  </thead>\n",
       "  <tbody>\n",
       "    <tr>\n",
       "      <th>9059</th>\n",
       "      <td>4</td>\n",
       "      <td>2.75</td>\n",
       "      <td>2530</td>\n",
       "      <td>7350</td>\n",
       "      <td>1.0</td>\n",
       "      <td>5</td>\n",
       "      <td>8</td>\n",
       "      <td>1280</td>\n",
       "      <td>1250</td>\n",
       "      <td>1977</td>\n",
       "      <td>47.3130</td>\n",
       "      <td>-122.374</td>\n",
       "      <td>2280</td>\n",
       "      <td>7350</td>\n",
       "    </tr>\n",
       "    <tr>\n",
       "      <th>13879</th>\n",
       "      <td>3</td>\n",
       "      <td>1.00</td>\n",
       "      <td>1070</td>\n",
       "      <td>10563</td>\n",
       "      <td>1.0</td>\n",
       "      <td>3</td>\n",
       "      <td>7</td>\n",
       "      <td>1070</td>\n",
       "      <td>0</td>\n",
       "      <td>1969</td>\n",
       "      <td>47.7687</td>\n",
       "      <td>-122.166</td>\n",
       "      <td>1840</td>\n",
       "      <td>9638</td>\n",
       "    </tr>\n",
       "    <tr>\n",
       "      <th>12286</th>\n",
       "      <td>3</td>\n",
       "      <td>1.50</td>\n",
       "      <td>1370</td>\n",
       "      <td>8671</td>\n",
       "      <td>1.0</td>\n",
       "      <td>3</td>\n",
       "      <td>7</td>\n",
       "      <td>1370</td>\n",
       "      <td>0</td>\n",
       "      <td>1955</td>\n",
       "      <td>47.6217</td>\n",
       "      <td>-122.198</td>\n",
       "      <td>1580</td>\n",
       "      <td>8671</td>\n",
       "    </tr>\n",
       "    <tr>\n",
       "      <th>3218</th>\n",
       "      <td>4</td>\n",
       "      <td>2.75</td>\n",
       "      <td>2360</td>\n",
       "      <td>7716</td>\n",
       "      <td>1.0</td>\n",
       "      <td>3</td>\n",
       "      <td>7</td>\n",
       "      <td>1390</td>\n",
       "      <td>970</td>\n",
       "      <td>1978</td>\n",
       "      <td>47.7301</td>\n",
       "      <td>-122.223</td>\n",
       "      <td>2160</td>\n",
       "      <td>8794</td>\n",
       "    </tr>\n",
       "    <tr>\n",
       "      <th>5287</th>\n",
       "      <td>4</td>\n",
       "      <td>2.25</td>\n",
       "      <td>2010</td>\n",
       "      <td>19000</td>\n",
       "      <td>2.0</td>\n",
       "      <td>4</td>\n",
       "      <td>8</td>\n",
       "      <td>2010</td>\n",
       "      <td>0</td>\n",
       "      <td>1975</td>\n",
       "      <td>47.3734</td>\n",
       "      <td>-122.119</td>\n",
       "      <td>1950</td>\n",
       "      <td>19626</td>\n",
       "    </tr>\n",
       "  </tbody>\n",
       "</table>\n",
       "</div>"
      ],
      "text/plain": [
       "       bedrooms  bathrooms  sqft_living  sqft_lot  floors  condition  grade  \\\n",
       "9059          4       2.75         2530      7350     1.0          5      8   \n",
       "13879         3       1.00         1070     10563     1.0          3      7   \n",
       "12286         3       1.50         1370      8671     1.0          3      7   \n",
       "3218          4       2.75         2360      7716     1.0          3      7   \n",
       "5287          4       2.25         2010     19000     2.0          4      8   \n",
       "\n",
       "       sqft_above  sqft_basement  yr_built      lat     long  sqft_living15  \\\n",
       "9059         1280           1250      1977  47.3130 -122.374           2280   \n",
       "13879        1070              0      1969  47.7687 -122.166           1840   \n",
       "12286        1370              0      1955  47.6217 -122.198           1580   \n",
       "3218         1390            970      1978  47.7301 -122.223           2160   \n",
       "5287         2010              0      1975  47.3734 -122.119           1950   \n",
       "\n",
       "       sqft_lot15  \n",
       "9059         7350  \n",
       "13879        9638  \n",
       "12286        8671  \n",
       "3218         8794  \n",
       "5287        19626  "
      ]
     },
     "execution_count": 333,
     "metadata": {},
     "output_type": "execute_result"
    }
   ],
   "source": [
    "from sklearn.base import BaseEstimator, TransformerMixin\n",
    "\n",
    "class deleteAttributes (BaseEstimator, TransformerMixin):\n",
    "    def fit (self, X, y=None):\n",
    "        return self\n",
    "    def transform (self, X, y=None):\n",
    "        X = X.drop([\"id\", \"date\", \"view\", \"waterfront\", \"yr_renovated\", \"zipcode\", \"housePriceCategory\"], axis=1)\n",
    "        return X\n",
    "        \n",
    "test = deleteAttributes()\n",
    "X = test.transform(trainFeatures)\n",
    "X.head()"
   ]
  },
  {
   "cell_type": "markdown",
   "metadata": {},
   "source": [
    "## 4.3 Feature Scaling and Data Pipeline\n",
    "We've made a pipeline that deletes the \"bad features\" and also scales the features."
   ]
  },
  {
   "cell_type": "code",
   "execution_count": 334,
   "metadata": {},
   "outputs": [],
   "source": [
    "from sklearn.pipeline import Pipeline\n",
    "from sklearn.preprocessing import StandardScaler\n",
    "\n",
    "pipeline = Pipeline ([\n",
    "    (\"delete\", deleteAttributes()),\n",
    "    (\"standard\", StandardScaler()),\n",
    "])\n",
    "\n",
    "cleanedTrainSet = pipeline.fit_transform(trainFeatures)"
   ]
  },
  {
   "cell_type": "markdown",
   "metadata": {},
   "source": [
    "# 5. Training the Linear Model"
   ]
  },
  {
   "cell_type": "code",
   "execution_count": 335,
   "metadata": {},
   "outputs": [
    {
     "data": {
      "text/plain": [
       "LinearRegression(copy_X=True, fit_intercept=True, n_jobs=None, normalize=False)"
      ]
     },
     "execution_count": 335,
     "metadata": {},
     "output_type": "execute_result"
    }
   ],
   "source": [
    "from sklearn.linear_model import LinearRegression\n",
    "from sklearn.metrics import mean_squared_error\n",
    "\n",
    "lin_regression = LinearRegression()\n",
    "lin_regression.fit(cleanedTrainSet, trainPrices)"
   ]
  },
  {
   "cell_type": "markdown",
   "metadata": {},
   "source": [
    "# 5. Making Predictions on the Test Set\n",
    "\n",
    "## 5.2 Prediction without a Function\n"
   ]
  },
  {
   "cell_type": "code",
   "execution_count": 336,
   "metadata": {},
   "outputs": [
    {
     "name": "stdout",
     "output_type": "stream",
     "text": [
      "The total error is $ 215488.6144657396\n"
     ]
    }
   ],
   "source": [
    "testY = testSet.copy()[\"price\"]\n",
    "testX = testSet.copy().drop(columns = \"price\")\n",
    "cleanedTestSet = pipeline.fit_transform(testX)\n",
    "\n",
    "housing_predictions = lin_regression.predict(cleanedTestSet)\n",
    "squaredError = mean_squared_error(testY, housing_predictions)\n",
    "error = np.sqrt(squaredError)\n",
    "print(\"The total error is $\", error)"
   ]
  },
  {
   "cell_type": "markdown",
   "metadata": {},
   "source": [
    "## 5.2 Making a function so that prediction makes it easier\n"
   ]
  },
  {
   "cell_type": "code",
   "execution_count": 337,
   "metadata": {},
   "outputs": [
    {
     "name": "stdout",
     "output_type": "stream",
     "text": [
      "The total error is $ 215488.6144657396\n"
     ]
    }
   ],
   "source": [
    "from sklearn.metrics import mean_squared_error\n",
    "from sklearn.tree import DecisionTreeRegressor\n",
    "\n",
    "def splitting(dataFrame):\n",
    "    y = dataFrame.copy()[\"price\"]\n",
    "    features = dataFrame.copy().drop(columns = \"price\")\n",
    "    return (features, y)\n",
    "\n",
    "def cleanData(features):\n",
    "    X = pipeline.fit_transform(features)\n",
    "    return X\n",
    "\n",
    "def trainRegressor (features, y):\n",
    "    lin_regression = LinearRegression()\n",
    "    lin_regression.fit(features, y)\n",
    "    return lin_regression\n",
    "\n",
    "\n",
    "def predictionErrors(linearRegressor, features, y):\n",
    "    prediction = linearRegressor.predict(features)\n",
    "    mse = mean_squared_error(prediction, y)\n",
    "    error = np.sqrt(mse)\n",
    "    return error\n",
    "\n",
    "def rawData_to_prediction (trainSet, testSet):\n",
    "    trainX, trainY = splitting(trainSet)\n",
    "    testX, testY = splitting(testSet)\n",
    "    trainCleaned, testCleaned = cleanData(trainX), cleanData(testX)\n",
    "    regressor = trainRegressor (trainCleaned, trainY)\n",
    "    testSetError = predictionErrors(regressor, testCleaned, testY)\n",
    "    return testSetError\n",
    "\n",
    "error = rawData_to_prediction (trainSet, testSet)\n",
    "print(\"The total error is $\", error)\n"
   ]
  },
  {
   "cell_type": "markdown",
   "metadata": {},
   "source": [
    "The error of 215,488 dollars is pretty bad but considering that the highest house price was somewhere around 7,500,000 dollars need to be considered. <br>\n",
    "Also, I think that just a simple linear regression did a pretty good job with the error of around 200,000. dollars <br>\n",
    "I could add more features such later on such as playing with the parameters and using more complicated models."
   ]
  },
  {
   "cell_type": "markdown",
   "metadata": {},
   "source": []
  }
 ],
 "metadata": {
  "kernelspec": {
   "display_name": "Python 3",
   "language": "python",
   "name": "python3"
  },
  "language_info": {
   "codemirror_mode": {
    "name": "ipython",
    "version": 3
   },
   "file_extension": ".py",
   "mimetype": "text/x-python",
   "name": "python",
   "nbconvert_exporter": "python",
   "pygments_lexer": "ipython3",
   "version": "3.7.0"
  }
 },
 "nbformat": 4,
 "nbformat_minor": 2
}
